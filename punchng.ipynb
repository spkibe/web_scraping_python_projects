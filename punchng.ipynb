{
 "cells": [
  {
   "cell_type": "code",
   "execution_count": 1,
   "metadata": {},
   "outputs": [],
   "source": [
    "from bs4 import BeautifulSoup\n",
    "import requests\n",
    "import re\n",
    "import pandas as pd"
   ]
  },
  {
   "cell_type": "code",
   "execution_count": 31,
   "metadata": {},
   "outputs": [],
   "source": [
    "agent = \"Mozilla/5.0 (X11; Linux x86_64) AppleWebKit/537.36 (KHTML, like Gecko) Chrome/120.0.0.0 Safari/537.36\"\n",
    "\n",
    "# Headers for request\n",
    "HEADERS = ({'User-Agent' : agent, 'Accept-Language': 'en-US, en;q=0.5'})"
   ]
  },
  {
   "cell_type": "code",
   "execution_count": 45,
   "metadata": {},
   "outputs": [],
   "source": [
    "url = \"https://punchng.com/topics/business/\""
   ]
  },
  {
   "cell_type": "code",
   "execution_count": 46,
   "metadata": {},
   "outputs": [
    {
     "name": "stdout",
     "output_type": "stream",
     "text": [
      "<Response [200]>\n"
     ]
    }
   ],
   "source": [
    "response = requests.get(url, headers=HEADERS)\n",
    "print(response)"
   ]
  },
  {
   "cell_type": "code",
   "execution_count": 47,
   "metadata": {},
   "outputs": [],
   "source": [
    "soup = BeautifulSoup(response.content, 'html.parser')\n",
    "#print(soup)"
   ]
  },
  {
   "cell_type": "code",
   "execution_count": 48,
   "metadata": {},
   "outputs": [],
   "source": [
    "category = \"Business\""
   ]
  },
  {
   "cell_type": "code",
   "execution_count": 49,
   "metadata": {},
   "outputs": [],
   "source": [
    "categories = []\n",
    "titles = []\n",
    "links = []"
   ]
  },
  {
   "cell_type": "code",
   "execution_count": 50,
   "metadata": {},
   "outputs": [],
   "source": [
    "# Find all articles with the 'article' tag\n",
    "articles = soup.find_all('article')\n",
    "\n",
    "# Iterate through each article and extract title and link\n",
    "for article in articles:\n",
    "    title_element = article.find('h1', class_='post-title')\n",
    "    if title_element:\n",
    "        link = title_element.find('a')['href']\n",
    "        title = title_element.find('a').text.strip()\n",
    "\n",
    "        # print(f'Title: {title}')\n",
    "        # print(f'Link: {link}')\n",
    "        # print('-' * 40)\n",
    "        # break\n",
    "\n",
    "         #categories.append(tittle and link)\n",
    "        titles.append(title)\n",
    "        links.append(link)\n"
   ]
  },
  {
   "cell_type": "code",
   "execution_count": 51,
   "metadata": {},
   "outputs": [
    {
     "data": {
      "text/plain": [
       "31"
      ]
     },
     "execution_count": 51,
     "metadata": {},
     "output_type": "execute_result"
    }
   ],
   "source": [
    "len(titles)"
   ]
  },
  {
   "cell_type": "code",
   "execution_count": 52,
   "metadata": {},
   "outputs": [
    {
     "data": {
      "text/plain": [
       "31"
      ]
     },
     "execution_count": 52,
     "metadata": {},
     "output_type": "execute_result"
    }
   ],
   "source": [
    "len(links)"
   ]
  },
  {
   "cell_type": "code",
   "execution_count": 53,
   "metadata": {},
   "outputs": [
    {
     "name": "stdout",
     "output_type": "stream",
     "text": [
      "<Response [403]>\n",
      "<Response [403]>\n"
     ]
    }
   ],
   "source": [
    "for i in range(2, 4):\n",
    "\n",
    "    url = f\"https://punchng.com/topics/business/page/{i}/\"\n",
    "\n",
    "    response = requests.get(url, headers=HEADERS)\n",
    "    print(response)\n",
    "\n",
    "    soup = BeautifulSoup(response.content, 'html.parser')\n",
    "    #print(soup)\n",
    "\n",
    "    # Find all articles with the 'article' tag\n",
    "    articles = soup.find_all('article')\n",
    "\n",
    "    # Iterate through each article and extract title and link\n",
    "    for article in articles:\n",
    "        title_element = article.find('h1', class_='post-title')\n",
    "        if title_element:\n",
    "            link = title_element.find('a')['href']\n",
    "            title = title_element.find('a').text.strip()\n",
    "\n",
    "            # print(f'Title: {title}')\n",
    "            # print(f'Link: {link}')\n",
    "            # print('-' * 40)\n",
    "            # break\n",
    "\n",
    "            #categories.append(tittle and link)\n",
    "            titles.append(title)\n",
    "            links.append(link)"
   ]
  },
  {
   "cell_type": "code",
   "execution_count": 54,
   "metadata": {},
   "outputs": [
    {
     "data": {
      "text/plain": [
       "(31, 31)"
      ]
     },
     "execution_count": 54,
     "metadata": {},
     "output_type": "execute_result"
    }
   ],
   "source": [
    "len(titles), len(links)"
   ]
  },
  {
   "cell_type": "code",
   "execution_count": 55,
   "metadata": {},
   "outputs": [
    {
     "data": {
      "text/html": [
       "<div>\n",
       "<style scoped>\n",
       "    .dataframe tbody tr th:only-of-type {\n",
       "        vertical-align: middle;\n",
       "    }\n",
       "\n",
       "    .dataframe tbody tr th {\n",
       "        vertical-align: top;\n",
       "    }\n",
       "\n",
       "    .dataframe thead th {\n",
       "        text-align: right;\n",
       "    }\n",
       "</style>\n",
       "<table border=\"1\" class=\"dataframe\">\n",
       "  <thead>\n",
       "    <tr style=\"text-align: right;\">\n",
       "      <th></th>\n",
       "      <th>Category</th>\n",
       "      <th>Title</th>\n",
       "      <th>Link</th>\n",
       "    </tr>\n",
       "  </thead>\n",
       "  <tbody>\n",
       "    <tr>\n",
       "      <th>0</th>\n",
       "      <td>Business</td>\n",
       "      <td>Unpaid debts, gas shortage affecting power fir...</td>\n",
       "      <td>https://punchng.com/unpaid-debts-gas-shortage-...</td>\n",
       "    </tr>\n",
       "    <tr>\n",
       "      <th>1</th>\n",
       "      <td>Business</td>\n",
       "      <td>P’Harcourt refinery test-run ongoing, marketer...</td>\n",
       "      <td>https://punchng.com/pharcourt-refinery-test-ru...</td>\n",
       "    </tr>\n",
       "    <tr>\n",
       "      <th>2</th>\n",
       "      <td>Business</td>\n",
       "      <td>Stakeholder faults $2bn turnover requirement f...</td>\n",
       "      <td>https://punchng.com/stakeholder-faults-2bn-tur...</td>\n",
       "    </tr>\n",
       "    <tr>\n",
       "      <th>3</th>\n",
       "      <td>Business</td>\n",
       "      <td>CBN orders banks to sell excess dollars in 24 ...</td>\n",
       "      <td>https://punchng.com/cbn-orders-banks-to-sell-e...</td>\n",
       "    </tr>\n",
       "    <tr>\n",
       "      <th>4</th>\n",
       "      <td>Business</td>\n",
       "      <td>EFCC probing Nigeria Air deal, says Keyamo</td>\n",
       "      <td>https://punchng.com/efcc-probing-nigeria-air-d...</td>\n",
       "    </tr>\n",
       "  </tbody>\n",
       "</table>\n",
       "</div>"
      ],
      "text/plain": [
       "   Category                                              Title  \\\n",
       "0  Business  Unpaid debts, gas shortage affecting power fir...   \n",
       "1  Business  P’Harcourt refinery test-run ongoing, marketer...   \n",
       "2  Business  Stakeholder faults $2bn turnover requirement f...   \n",
       "3  Business  CBN orders banks to sell excess dollars in 24 ...   \n",
       "4  Business         EFCC probing Nigeria Air deal, says Keyamo   \n",
       "\n",
       "                                                Link  \n",
       "0  https://punchng.com/unpaid-debts-gas-shortage-...  \n",
       "1  https://punchng.com/pharcourt-refinery-test-ru...  \n",
       "2  https://punchng.com/stakeholder-faults-2bn-tur...  \n",
       "3  https://punchng.com/cbn-orders-banks-to-sell-e...  \n",
       "4  https://punchng.com/efcc-probing-nigeria-air-d...  "
      ]
     },
     "execution_count": 55,
     "metadata": {},
     "output_type": "execute_result"
    }
   ],
   "source": [
    "# Creating a DataFrame\n",
    "data = {'Category': category, 'Title': titles, 'Link': links}\n",
    "df = pd.DataFrame(data)\n",
    "df.head()"
   ]
  },
  {
   "cell_type": "code",
   "execution_count": 56,
   "metadata": {},
   "outputs": [
    {
     "data": {
      "text/plain": [
       "(31, 3)"
      ]
     },
     "execution_count": 56,
     "metadata": {},
     "output_type": "execute_result"
    }
   ],
   "source": [
    "df.shape"
   ]
  },
  {
   "cell_type": "code",
   "execution_count": 57,
   "metadata": {},
   "outputs": [],
   "source": [
    "df.to_csv('punchng_Business.csv', index=False)"
   ]
  },
  {
   "cell_type": "code",
   "execution_count": null,
   "metadata": {},
   "outputs": [],
   "source": []
  }
 ],
 "metadata": {
  "kernelspec": {
   "display_name": "venv",
   "language": "python",
   "name": "python3"
  },
  "language_info": {
   "codemirror_mode": {
    "name": "ipython",
    "version": 3
   },
   "file_extension": ".py",
   "mimetype": "text/x-python",
   "name": "python",
   "nbconvert_exporter": "python",
   "pygments_lexer": "ipython3",
   "version": "3.10.12"
  }
 },
 "nbformat": 4,
 "nbformat_minor": 2
}
