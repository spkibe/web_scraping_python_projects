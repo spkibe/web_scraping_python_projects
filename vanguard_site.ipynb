{
 "cells": [
  {
   "cell_type": "code",
   "execution_count": 40,
   "metadata": {},
   "outputs": [],
   "source": [
    "from bs4 import BeautifulSoup\n",
    "import requests\n",
    "import re\n",
    "import pandas as pd"
   ]
  },
  {
   "cell_type": "code",
   "execution_count": 41,
   "metadata": {},
   "outputs": [],
   "source": [
    "agent = \"Mozilla/5.0 (X11; Linux x86_64) AppleWebKit/537.36 (KHTML, like Gecko) Chrome/120.0.0.0 Safari/537.36\"\n",
    "\n",
    "# Headers for request\n",
    "HEADERS = ({'User-Agent' : agent, 'Accept-Language': 'en-US, en;q=0.5'})"
   ]
  },
  {
   "cell_type": "code",
   "execution_count": 42,
   "metadata": {},
   "outputs": [],
   "source": [
    "url = \"https://www.vanguardngr.com/category/business/\""
   ]
  },
  {
   "cell_type": "code",
   "execution_count": 43,
   "metadata": {},
   "outputs": [
    {
     "name": "stdout",
     "output_type": "stream",
     "text": [
      "<Response [200]>\n"
     ]
    }
   ],
   "source": [
    "response = requests.get(url, headers=HEADERS)\n",
    "print(response)"
   ]
  },
  {
   "cell_type": "code",
   "execution_count": 44,
   "metadata": {},
   "outputs": [],
   "source": [
    "soup = BeautifulSoup(response.content, 'html.parser')\n",
    "#print(soup)"
   ]
  },
  {
   "cell_type": "code",
   "execution_count": 45,
   "metadata": {},
   "outputs": [],
   "source": [
    "# Find the article on the page\n",
    "article = soup.find('article', class_='entry entry-list-card entry-card-larger')\n",
    "\n",
    "# Extract title, link, and date\n",
    "title = article.find('h3', class_='entry-title').find('a').text\n",
    "link = article.find('h3', class_='entry-title').find('a')['href']\n",
    "date = article.find('div', class_='entry-date').text.strip()"
   ]
  },
  {
   "cell_type": "code",
   "execution_count": 46,
   "metadata": {},
   "outputs": [
    {
     "name": "stdout",
     "output_type": "stream",
     "text": [
      "Companies are struggling to meet obligations — NBC\n",
      "https://www.vanguardngr.com/2024/02/companies-are-struggling-to-meet-obligations-nbc/\n",
      "February 01, 2024\n"
     ]
    }
   ],
   "source": [
    "print(title)\n",
    "print(link)\n",
    "print(date)"
   ]
  },
  {
   "cell_type": "code",
   "execution_count": 47,
   "metadata": {},
   "outputs": [],
   "source": [
    "category = \"Business\""
   ]
  },
  {
   "cell_type": "code",
   "execution_count": 48,
   "metadata": {},
   "outputs": [],
   "source": [
    "categories = []\n",
    "titles = []\n",
    "links = []"
   ]
  },
  {
   "cell_type": "code",
   "execution_count": 49,
   "metadata": {},
   "outputs": [],
   "source": [
    "for article in soup.find_all('article', class_='entry entry-list-card entry-card-larger'):\n",
    "    # Extract title, link, and date\n",
    "    title = article.find('h3', class_='entry-title').find('a').text\n",
    "    link = article.find('h3', class_='entry-title').find('a')['href']\n",
    "    date = article.find('div', class_='entry-date').text.strip()\n",
    "\n",
    "    #categories.append(category)\n",
    "    titles.append(title)\n",
    "    links.append(link)"
   ]
  },
  {
   "cell_type": "code",
   "execution_count": 50,
   "metadata": {},
   "outputs": [],
   "source": [
    "for article in soup.find_all('article', class_='entry entry-list'):\n",
    "    # Extract title, link, and date\n",
    "    title = article.find('h3', class_='entry-title').find('a').text\n",
    "    link = article.find('h3', class_='entry-title').find('a')['href']\n",
    "    date = article.find('div', class_='entry-date').text.strip()\n",
    "\n",
    "    #categories.append(category)\n",
    "    titles.append(title)\n",
    "    links.append(link)"
   ]
  },
  {
   "cell_type": "code",
   "execution_count": null,
   "metadata": {},
   "outputs": [],
   "source": []
  },
  {
   "cell_type": "code",
   "execution_count": 51,
   "metadata": {},
   "outputs": [
    {
     "data": {
      "text/plain": [
       "14"
      ]
     },
     "execution_count": 51,
     "metadata": {},
     "output_type": "execute_result"
    }
   ],
   "source": [
    "len(titles)"
   ]
  },
  {
   "cell_type": "code",
   "execution_count": 52,
   "metadata": {},
   "outputs": [
    {
     "data": {
      "text/plain": [
       "14"
      ]
     },
     "execution_count": 52,
     "metadata": {},
     "output_type": "execute_result"
    }
   ],
   "source": [
    "len(titles)"
   ]
  },
  {
   "cell_type": "code",
   "execution_count": 53,
   "metadata": {},
   "outputs": [
    {
     "data": {
      "text/html": [
       "<div>\n",
       "<style scoped>\n",
       "    .dataframe tbody tr th:only-of-type {\n",
       "        vertical-align: middle;\n",
       "    }\n",
       "\n",
       "    .dataframe tbody tr th {\n",
       "        vertical-align: top;\n",
       "    }\n",
       "\n",
       "    .dataframe thead th {\n",
       "        text-align: right;\n",
       "    }\n",
       "</style>\n",
       "<table border=\"1\" class=\"dataframe\">\n",
       "  <thead>\n",
       "    <tr style=\"text-align: right;\">\n",
       "      <th></th>\n",
       "      <th>Category</th>\n",
       "      <th>Title</th>\n",
       "      <th>Link</th>\n",
       "    </tr>\n",
       "  </thead>\n",
       "  <tbody>\n",
       "    <tr>\n",
       "      <th>0</th>\n",
       "      <td>Business</td>\n",
       "      <td>Companies are struggling to meet obligations —...</td>\n",
       "      <td>https://www.vanguardngr.com/2024/02/companies-...</td>\n",
       "    </tr>\n",
       "    <tr>\n",
       "      <th>1</th>\n",
       "      <td>Business</td>\n",
       "      <td>LIRS extends deadline for filing annual tax re...</td>\n",
       "      <td>https://www.vanguardngr.com/2024/02/lirs-exten...</td>\n",
       "    </tr>\n",
       "    <tr>\n",
       "      <th>2</th>\n",
       "      <td>Business</td>\n",
       "      <td>Nigeria’s inflation rate to drop to 23% in 202...</td>\n",
       "      <td>https://www.vanguardngr.com/2024/01/nigerias-i...</td>\n",
       "    </tr>\n",
       "    <tr>\n",
       "      <th>3</th>\n",
       "      <td>Business</td>\n",
       "      <td>CBN moves to boost liquidity in FX market, lim...</td>\n",
       "      <td>https://www.vanguardngr.com/2024/01/cbn-moves-...</td>\n",
       "    </tr>\n",
       "    <tr>\n",
       "      <th>4</th>\n",
       "      <td>Business</td>\n",
       "      <td>IMF downgrades forecast for Nigeria’s 2024 eco...</td>\n",
       "      <td>https://www.vanguardngr.com/2024/01/imf-downgr...</td>\n",
       "    </tr>\n",
       "  </tbody>\n",
       "</table>\n",
       "</div>"
      ],
      "text/plain": [
       "   Category                                              Title  \\\n",
       "0  Business  Companies are struggling to meet obligations —...   \n",
       "1  Business  LIRS extends deadline for filing annual tax re...   \n",
       "2  Business  Nigeria’s inflation rate to drop to 23% in 202...   \n",
       "3  Business  CBN moves to boost liquidity in FX market, lim...   \n",
       "4  Business  IMF downgrades forecast for Nigeria’s 2024 eco...   \n",
       "\n",
       "                                                Link  \n",
       "0  https://www.vanguardngr.com/2024/02/companies-...  \n",
       "1  https://www.vanguardngr.com/2024/02/lirs-exten...  \n",
       "2  https://www.vanguardngr.com/2024/01/nigerias-i...  \n",
       "3  https://www.vanguardngr.com/2024/01/cbn-moves-...  \n",
       "4  https://www.vanguardngr.com/2024/01/imf-downgr...  "
      ]
     },
     "execution_count": 53,
     "metadata": {},
     "output_type": "execute_result"
    }
   ],
   "source": [
    "# Creating a DataFrame\n",
    "data = {'Category': category, 'Title': titles, 'Link': links}\n",
    "df = pd.DataFrame(data)\n",
    "df.head()"
   ]
  },
  {
   "cell_type": "code",
   "execution_count": 1,
   "metadata": {},
   "outputs": [],
   "source": [
    "  BBV9UY01`df.to_csv('vanguard_Business.csv', index=False)"
   ]
  },
  {
   "cell_type": "code",
   "execution_count": null,
   "metadata": {},
   "outputs": [],
   "source": []
  }
 ],
 "metadata": {
  "kernelspec": {
   "display_name": "venv",
   "language": "python",
   "name": "python3"
  },
  "language_info": {
   "codemirror_mode": {
    "name": "ipython",
    "version": 3
   },
   "file_extension": ".py",
   "mimetype": "text/x-python",
   "name": "python",
   "nbconvert_exporter": "python",
   "pygments_lexer": "ipython3",
   "version": "3.10.12"
  }
 },
 "nbformat": 4,
 "nbformat_minor": 2
}
