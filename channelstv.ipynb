{
 "cells": [
  {
   "cell_type": "code",
   "execution_count": 1,
   "metadata": {},
   "outputs": [],
   "source": [
    "from bs4 import BeautifulSoup\n",
    "import requests\n",
    "import re\n",
    "import pandas as pd"
   ]
  },
  {
   "cell_type": "code",
   "execution_count": 2,
   "metadata": {},
   "outputs": [],
   "source": [
    "agent = \"Mozilla/5.0 (X11; Linux x86_64) AppleWebKit/537.36 (KHTML, like Gecko) Chrome/120.0.0.0 Safari/537.36\"\n",
    "\n",
    "# Headers for request\n",
    "HEADERS = ({'User-Agent' : agent, 'Accept-Language': 'en-US, en;q=0.5'})"
   ]
  },
  {
   "cell_type": "code",
   "execution_count": 61,
   "metadata": {},
   "outputs": [],
   "source": [
    "url = \"https://www.channelstv.com/category/business/\""
   ]
  },
  {
   "cell_type": "code",
   "execution_count": 62,
   "metadata": {},
   "outputs": [
    {
     "name": "stdout",
     "output_type": "stream",
     "text": [
      "<Response [200]>\n"
     ]
    }
   ],
   "source": [
    "response = requests.get(url, headers=HEADERS)\n",
    "print(response)"
   ]
  },
  {
   "cell_type": "code",
   "execution_count": 63,
   "metadata": {},
   "outputs": [],
   "source": [
    "soup = BeautifulSoup(response.content, 'html.parser')\n",
    "#print(soup)"
   ]
  },
  {
   "cell_type": "code",
   "execution_count": 64,
   "metadata": {},
   "outputs": [],
   "source": [
    "category = \"Business\""
   ]
  },
  {
   "cell_type": "code",
   "execution_count": 65,
   "metadata": {},
   "outputs": [],
   "source": [
    "categories = []\n",
    "titles = []\n",
    "links = []"
   ]
  },
  {
   "cell_type": "code",
   "execution_count": 66,
   "metadata": {},
   "outputs": [
    {
     "name": "stdout",
     "output_type": "stream",
     "text": [
      "Title: Shell Says Annual Profit More Than Halves To $19.4 bn\n",
      "Link: https://www.channelstv.com/2024/02/01/shell-says-annual-profit-more-than-halves-to-19-4-bn/\n"
     ]
    }
   ],
   "source": [
    "# Find all articles with the 'sumry-inner' class\n",
    "articles = soup.find_all('article', class_='post__sumry')\n",
    "\n",
    "# Iterate through each article and extract title and link\n",
    "for article in articles:\n",
    "    title_element = article.find('h3', class_='post-title').find('a')\n",
    "    link = title_element['href']\n",
    "    title = title_element.text.strip()\n",
    "\n",
    "    print(f'Title: {title}')\n",
    "    print(f'Link: {link}')\n",
    "    break"
   ]
  },
  {
   "cell_type": "code",
   "execution_count": 67,
   "metadata": {},
   "outputs": [
    {
     "name": "stdout",
     "output_type": "stream",
     "text": [
      "Title: Shell Says Annual Profit More Than Halves To $19.4 bn\n",
      "Link: https://www.channelstv.com/2024/02/01/shell-says-annual-profit-more-than-halves-to-19-4-bn/\n",
      "----------------------------------------\n",
      "Title: BDCs In Abuja Shut Down Over Dollar Scarcity\n",
      "Link: https://www.channelstv.com/2024/02/01/bdcs-in-abuja-shut-down-over-dollar-scarcity/\n",
      "----------------------------------------\n",
      "Title: UPDATED: CBN Orders Banks To Sell Excess Dollars\n",
      "Link: https://www.channelstv.com/2024/02/01/cbn-orders-banks-to-sell-excess-dollars-in-24-hours/\n",
      "----------------------------------------\n",
      "Title: No Local Airline Will Be A National Carrier – Keyamo\n",
      "Link: https://www.channelstv.com/2024/01/31/no-local-airline-will-be-a-national-carrier-keyamo/\n",
      "----------------------------------------\n",
      "Title: No Going Back On FAAN Relocation To Lagos, N500m Will Be Saved Annually — Keyamo\n",
      "Link: https://www.channelstv.com/2024/01/31/breaking-no-going-back-on-faan-relocation-to-lagos-n500m-will-be-saved-keyamo/\n",
      "----------------------------------------\n",
      "Title: FBN Holdings Appoints Otedola As Chairman\n",
      "Link: https://www.channelstv.com/2024/01/31/just-in-fbn-holdings-appoints-otedola-as-chairman/\n",
      "----------------------------------------\n",
      "Title: ‘$700m Remains Blocked’, Says IATA On Release Of Airlines’ Funds\n",
      "Link: https://www.channelstv.com/2024/01/30/700m-remains-blocked-says-iata-on-release-of-airlines-funds/\n",
      "----------------------------------------\n",
      "Title: FX Backlog: CBN Concludes Payment of All Verified Claims By Airlines\n",
      "Link: https://www.channelstv.com/2024/01/30/fx-backlog-cbn-concludes-payment-of-all-verified-claims-by-airlines/\n",
      "----------------------------------------\n",
      "Title: Katsina Irrigation Authority Promises To Bring Back Extension Training For Farmers, Operators\n",
      "Link: https://www.channelstv.com/2024/01/30/katsina-irrigation-authority-promises-to-bring-back-extension-training-for-farmers-operators/\n",
      "----------------------------------------\n",
      "Title: You Can’t Run Nigeria’s Economy On Palliatives, Sowunmi Slams FG\n",
      "Link: https://www.channelstv.com/2024/01/29/you-cant-run-nigerias-economy-on-palliatives-sowunmi-slams-fg/\n",
      "----------------------------------------\n",
      "Title: Toyota Suspends Shipments Of 10 Models On Testing Irregularities\n",
      "Link: https://www.channelstv.com/2024/01/29/toyota-suspends-shipments-of-10-models-on-testing-irregularities/\n",
      "----------------------------------------\n",
      "Title: CBN Releases $500m To Clear More Verified FX Liabilities Backlog\n",
      "Link: https://www.channelstv.com/2024/01/29/cbn-releases-500m-to-clear-more-verified-fx-liabilities-backlog/\n",
      "----------------------------------------\n",
      "Title: MPC Should Meet More Often To Address Rising Inflation – Rewane\n",
      "Link: https://www.channelstv.com/2024/01/28/mpc-should-meet-more-often-to-address-rising-inflation-rewane/\n",
      "----------------------------------------\n",
      "Title: FG Not Recruiting ‘Area Boys’ To Collect Taxes – Oyedele\n",
      "Link: https://www.channelstv.com/2024/01/27/fg-not-recruiting-area-boys-to-collect-taxes-oyedele/\n",
      "----------------------------------------\n"
     ]
    }
   ],
   "source": [
    "\n",
    "# Assume 'articles' is a list of article elements\n",
    "for article in articles:\n",
    "    # Find the title element within the article\n",
    "    title_element = article.find('h3', class_='post-title')\n",
    "\n",
    "    # Check if the title element is found before proceeding\n",
    "    if title_element:\n",
    "        # Find the link element within the title element\n",
    "        link_element = title_element.find('a')\n",
    "\n",
    "        # Check if the link element is found before proceeding\n",
    "        if link_element:\n",
    "            # Extract the link and title\n",
    "            link = link_element['href']\n",
    "            title = link_element.text.strip()\n",
    "\n",
    "            print(f'Title: {title}')\n",
    "            print(f'Link: {link}')\n",
    "            print('-' * 40)"
   ]
  },
  {
   "cell_type": "code",
   "execution_count": 68,
   "metadata": {},
   "outputs": [],
   "source": [
    "# Find all articles with the 'sumry-inner' class\n",
    "articles = soup.find_all('article', class_='post post__default post__sumry sumry__vert size-md col-12 col-lg-4 sumry__valign-none')\n",
    "\n",
    "# Iterate through each article and extract title and link\n",
    "# Iterate through each article and extract title and link\n",
    "# Assume 'articles' is a list of article elements\n",
    "for article in articles:\n",
    "    # Find the title element within the article\n",
    "    title_element = article.find('h3', class_='post-title')\n",
    "\n",
    "    # Check if the title element is found before proceeding\n",
    "    if title_element:\n",
    "        # Find the link element within the title element\n",
    "        link_element = title_element.find('a')\n",
    "\n",
    "        # Check if the link element is found before proceeding\n",
    "        if link_element:\n",
    "            # Extract the link and title\n",
    "            link = link_element['href']\n",
    "            title = link_element.text.strip()\n",
    "\n",
    "            links.append(link)\n",
    "            titles.append(title)\n",
    "    \n"
   ]
  },
  {
   "cell_type": "code",
   "execution_count": 69,
   "metadata": {},
   "outputs": [
    {
     "data": {
      "text/plain": [
       "9"
      ]
     },
     "execution_count": 69,
     "metadata": {},
     "output_type": "execute_result"
    }
   ],
   "source": [
    "len(titles)"
   ]
  },
  {
   "cell_type": "code",
   "execution_count": 70,
   "metadata": {},
   "outputs": [
    {
     "data": {
      "text/plain": [
       "9"
      ]
     },
     "execution_count": 70,
     "metadata": {},
     "output_type": "execute_result"
    }
   ],
   "source": [
    "len(links)"
   ]
  },
  {
   "cell_type": "code",
   "execution_count": 71,
   "metadata": {},
   "outputs": [
    {
     "name": "stdout",
     "output_type": "stream",
     "text": [
      "<Response [200]>\n",
      "<Response [200]>\n",
      "<Response [200]>\n",
      "<Response [200]>\n",
      "<Response [200]>\n",
      "<Response [200]>\n",
      "<Response [200]>\n",
      "<Response [200]>\n",
      "<Response [200]>\n",
      "<Response [200]>\n",
      "<Response [200]>\n",
      "<Response [200]>\n",
      "<Response [200]>\n",
      "<Response [200]>\n",
      "<Response [200]>\n",
      "<Response [200]>\n",
      "<Response [200]>\n",
      "<Response [200]>\n"
     ]
    }
   ],
   "source": [
    "for i in range(2, 20):\n",
    "\n",
    "    url = f\"https://www.channelstv.com/category/business/page/{2}/\"\n",
    "\n",
    "    response = requests.get(url, headers=HEADERS)\n",
    "    print(response)\n",
    "\n",
    "    soup = BeautifulSoup(response.content, 'html.parser')\n",
    "    #print(soup)\n",
    "\n",
    "    # Find all articles with the 'sumry-inner' class\n",
    "    articles = soup.find_all('article', class_='post post__default post__sumry sumry__vert size-md col-12 col-lg-4 sumry__valign-none')\n",
    "\n",
    "    # Iterate through each article and extract title and link\n",
    "    # Iterate through each article and extract title and link\n",
    "    for article in articles:\n",
    "        # Find the title element within the article\n",
    "        title_element = article.find('h3', class_='post-title')\n",
    "\n",
    "        # Check if the title element is found before proceeding\n",
    "        if title_element:\n",
    "            # Find the link element within the title element\n",
    "            link_element = title_element.find('a')\n",
    "\n",
    "            # Check if the link element is found before proceeding\n",
    "            if link_element:\n",
    "                # Extract the link and title\n",
    "                link = link_element['href']\n",
    "                title = link_element.text.strip()\n",
    "\n",
    "                links.append(link)\n",
    "                titles.append(title)\n",
    "\n",
    "    "
   ]
  },
  {
   "cell_type": "code",
   "execution_count": 72,
   "metadata": {},
   "outputs": [
    {
     "name": "stdout",
     "output_type": "stream",
     "text": [
      "FAAN Explains Why Corporate HQ Was Moved From Abuja To Lagos\n"
     ]
    }
   ],
   "source": [
    "print(title)"
   ]
  },
  {
   "cell_type": "code",
   "execution_count": 73,
   "metadata": {},
   "outputs": [
    {
     "data": {
      "text/plain": [
       "(171, 171)"
      ]
     },
     "execution_count": 73,
     "metadata": {},
     "output_type": "execute_result"
    }
   ],
   "source": [
    "len(titles), len(links)"
   ]
  },
  {
   "cell_type": "code",
   "execution_count": 74,
   "metadata": {},
   "outputs": [
    {
     "data": {
      "text/html": [
       "<div>\n",
       "<style scoped>\n",
       "    .dataframe tbody tr th:only-of-type {\n",
       "        vertical-align: middle;\n",
       "    }\n",
       "\n",
       "    .dataframe tbody tr th {\n",
       "        vertical-align: top;\n",
       "    }\n",
       "\n",
       "    .dataframe thead th {\n",
       "        text-align: right;\n",
       "    }\n",
       "</style>\n",
       "<table border=\"1\" class=\"dataframe\">\n",
       "  <thead>\n",
       "    <tr style=\"text-align: right;\">\n",
       "      <th></th>\n",
       "      <th>Category</th>\n",
       "      <th>Title</th>\n",
       "      <th>Link</th>\n",
       "    </tr>\n",
       "  </thead>\n",
       "  <tbody>\n",
       "    <tr>\n",
       "      <th>0</th>\n",
       "      <td>Business</td>\n",
       "      <td>FBN Holdings Appoints Otedola As Chairman</td>\n",
       "      <td>https://www.channelstv.com/2024/01/31/just-in-...</td>\n",
       "    </tr>\n",
       "    <tr>\n",
       "      <th>1</th>\n",
       "      <td>Business</td>\n",
       "      <td>‘$700m Remains Blocked’, Says IATA On Release ...</td>\n",
       "      <td>https://www.channelstv.com/2024/01/30/700m-rem...</td>\n",
       "    </tr>\n",
       "    <tr>\n",
       "      <th>2</th>\n",
       "      <td>Business</td>\n",
       "      <td>FX Backlog: CBN Concludes Payment of All Verif...</td>\n",
       "      <td>https://www.channelstv.com/2024/01/30/fx-backl...</td>\n",
       "    </tr>\n",
       "    <tr>\n",
       "      <th>3</th>\n",
       "      <td>Business</td>\n",
       "      <td>Katsina Irrigation Authority Promises To Bring...</td>\n",
       "      <td>https://www.channelstv.com/2024/01/30/katsina-...</td>\n",
       "    </tr>\n",
       "    <tr>\n",
       "      <th>4</th>\n",
       "      <td>Business</td>\n",
       "      <td>You Can’t Run Nigeria’s Economy On Palliatives...</td>\n",
       "      <td>https://www.channelstv.com/2024/01/29/you-cant...</td>\n",
       "    </tr>\n",
       "  </tbody>\n",
       "</table>\n",
       "</div>"
      ],
      "text/plain": [
       "   Category                                              Title  \\\n",
       "0  Business          FBN Holdings Appoints Otedola As Chairman   \n",
       "1  Business  ‘$700m Remains Blocked’, Says IATA On Release ...   \n",
       "2  Business  FX Backlog: CBN Concludes Payment of All Verif...   \n",
       "3  Business  Katsina Irrigation Authority Promises To Bring...   \n",
       "4  Business  You Can’t Run Nigeria’s Economy On Palliatives...   \n",
       "\n",
       "                                                Link  \n",
       "0  https://www.channelstv.com/2024/01/31/just-in-...  \n",
       "1  https://www.channelstv.com/2024/01/30/700m-rem...  \n",
       "2  https://www.channelstv.com/2024/01/30/fx-backl...  \n",
       "3  https://www.channelstv.com/2024/01/30/katsina-...  \n",
       "4  https://www.channelstv.com/2024/01/29/you-cant...  "
      ]
     },
     "execution_count": 74,
     "metadata": {},
     "output_type": "execute_result"
    }
   ],
   "source": [
    "# Creating a DataFrame\n",
    "data = {'Category': category, 'Title': titles, 'Link': links}\n",
    "df = pd.DataFrame(data)\n",
    "df.head()"
   ]
  },
  {
   "cell_type": "code",
   "execution_count": 75,
   "metadata": {},
   "outputs": [
    {
     "data": {
      "text/plain": [
       "(171, 3)"
      ]
     },
     "execution_count": 75,
     "metadata": {},
     "output_type": "execute_result"
    }
   ],
   "source": [
    "df.shape"
   ]
  },
  {
   "cell_type": "code",
   "execution_count": 76,
   "metadata": {},
   "outputs": [],
   "source": [
    "df.to_csv('channelstv_Business.csv', index=False)"
   ]
  },
  {
   "cell_type": "code",
   "execution_count": null,
   "metadata": {},
   "outputs": [],
   "source": []
  }
 ],
 "metadata": {
  "kernelspec": {
   "display_name": "venv",
   "language": "python",
   "name": "python3"
  },
  "language_info": {
   "codemirror_mode": {
    "name": "ipython",
    "version": 3
   },
   "file_extension": ".py",
   "mimetype": "text/x-python",
   "name": "python",
   "nbconvert_exporter": "python",
   "pygments_lexer": "ipython3",
   "version": "3.10.12"
  }
 },
 "nbformat": 4,
 "nbformat_minor": 2
}
