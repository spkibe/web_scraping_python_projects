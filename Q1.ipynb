{
 "cells": [
  {
   "cell_type": "code",
   "execution_count": 1,
   "metadata": {},
   "outputs": [],
   "source": [
    "from bs4 import BeautifulSoup\n",
    "import requests\n",
    "import re\n",
    "import pandas as pd"
   ]
  },
  {
   "cell_type": "code",
   "execution_count": 2,
   "metadata": {},
   "outputs": [],
   "source": [
    "agent = \"Mozilla/5.0 (X11; Linux x86_64) AppleWebKit/537.36 (KHTML, like Gecko) Chrome/120.0.0.0 Safari/537.36\"\n",
    "\n",
    "# Headers for request\n",
    "HEADERS = ({'User-Agent' : agent, 'Accept-Language': 'en-US, en;q=0.5'})\n",
    "\n",
    "url = \"https://guardian.ng/\""
   ]
  },
  {
   "cell_type": "code",
   "execution_count": 3,
   "metadata": {},
   "outputs": [
    {
     "name": "stdout",
     "output_type": "stream",
     "text": [
      "<Response [200]>\n"
     ]
    }
   ],
   "source": [
    "response = requests.get(url, headers=HEADERS)\n",
    "print(response)"
   ]
  },
  {
   "cell_type": "code",
   "execution_count": 4,
   "metadata": {},
   "outputs": [],
   "source": [
    "soup = BeautifulSoup(response.content, 'html.parser')\n",
    "#print(soup)"
   ]
  },
  {
   "cell_type": "markdown",
   "metadata": {},
   "source": [
    "<div class=\"item design-article\">"
   ]
  },
  {
   "cell_type": "code",
   "execution_count": 31,
   "metadata": {},
   "outputs": [
    {
     "name": "stdout",
     "output_type": "stream",
     "text": [
      "<div class=\"item design-article\">\n",
      "<div class=\"image\"><a data-field=\"thumb\" href=\"https://guardian.ng/news/ndlea-arrests-198-drug-peddlers-in-kanos-graveyards-nightclubs/\"><img alt=\"\" class=\"attachment-531x299 size-531x299 wp-post-image\" data-lazy-src=\"https://guardian.ng/wp-content/uploads/2022/10/Marwa-556x312.jpg\" data-lazy-srcset=\"https://guardian.ng/wp-content/uploads/2022/10/Marwa-556x312.jpg 556w,https://guardian.ng/wp-content/uploads/2022/10/Marwa-1062x598.jpg 1062w,https://guardian.ng/wp-content/uploads/2022/10/Marwa-640x360.jpg 640w,https://guardian.ng/wp-content/uploads/2022/10/Marwa-320x180.jpg 320w,https://guardian.ng/wp-content/uploads/2022/10/Marwa-278x156.jpg 278w,https://guardian.ng/wp-content/uploads/2022/10/Marwa-515x290.jpg 515w,https://guardian.ng/wp-content/uploads/2022/10/Marwa-1030x580.jpg 1030w,https://guardian.ng/wp-content/uploads/2022/10/Marwa-712x401.jpg 712w,https://guardian.ng/wp-content/uploads/2022/10/Marwa-1424x802.jpg 1424w,https://guardian.ng/wp-content/uploads/2022/10/Marwa-600x338.jpg 600w,https://guardian.ng/wp-content/uploads/2022/10/Marwa.jpg 1280w\" decoding=\"async\" height=\"299\" sizes=\"(max-width: 531px) 100vw, 531px\" src=\"https://guardian.ng/wp-content/plugins/ventra-lazy-load/images/1x1.trans.gif\" width=\"531\"/><noscript><img alt=\"\" class=\"attachment-531x299 size-531x299 wp-post-image\" decoding=\"async\" height=\"299\" sizes=\"(max-width: 531px) 100vw, 531px\" src=\"https://guardian.ng/wp-content/uploads/2022/10/Marwa-556x312.jpg\" srcset=\"https://guardian.ng/wp-content/uploads/2022/10/Marwa-556x312.jpg 556w,https://guardian.ng/wp-content/uploads/2022/10/Marwa-1062x598.jpg 1062w,https://guardian.ng/wp-content/uploads/2022/10/Marwa-640x360.jpg 640w,https://guardian.ng/wp-content/uploads/2022/10/Marwa-320x180.jpg 320w,https://guardian.ng/wp-content/uploads/2022/10/Marwa-278x156.jpg 278w,https://guardian.ng/wp-content/uploads/2022/10/Marwa-515x290.jpg 515w,https://guardian.ng/wp-content/uploads/2022/10/Marwa-1030x580.jpg 1030w,https://guardian.ng/wp-content/uploads/2022/10/Marwa-712x401.jpg 712w,https://guardian.ng/wp-content/uploads/2022/10/Marwa-1424x802.jpg 1424w,https://guardian.ng/wp-content/uploads/2022/10/Marwa-600x338.jpg 600w,https://guardian.ng/wp-content/uploads/2022/10/Marwa.jpg 1280w\" width=\"531\"/></noscript></a></div>\n",
      "<div class=\"category\" data-field=\"category\"><a href=\"https://guardian.ng/category/news/\">News</a></div>\n",
      "<div class=\"headline\">\n",
      "<span class=\"title\" data-field=\"title\"><a data-field=\"title-link\" href=\"https://guardian.ng/news/ndlea-arrests-198-drug-peddlers-in-kanos-graveyards-nightclubs/\">NDLEA arrests 198 drug peddlers in Kano’s graveyards, nightclubs</a></span>\n",
      "</div>\n",
      "<div class=\"age\" data-field=\"age\"> 5 hours ago</div>\n",
      "<div class=\"excerpt\" data-field=\"excerpt\">\n",
      "            Operatives of Kano State Command of the National Drug Law Enforcement Agency (NDLEA) have arrested 198 suspected drug users, following raids at graveyards and nightclubs in the state.\t         </div>\n",
      "<div class=\"social\">\n",
      "<ul>\n",
      "<li>\n",
      "<a class=\"facebook\" href=\"https://www.facebook.com/dialog/share?app_id=1056657517707298&amp;display=popup&amp;href=https%3A%2F%2Fguardian.ng%2Fnews%2Fndlea-arrests-198-drug-peddlers-in-kanos-graveyards-nightclubs%2F\" on=\"tap:AMP.navigateTo(url='https://www.facebook.com/dialog/share?app_id=1056657517707298&amp;display=popup&amp;href=https%3A%2F%2Fguardian.ng%2Fnews%2Fndlea-arrests-198-drug-peddlers-in-kanos-graveyards-nightclubs%2F', target='_blank')\" target=\"_blank\">\n",
      "<img alt=\"Share on Facebook\" src=\"https://guardian.ng/wp-content/themes/guardian2021/images/share-facebook.png\" srcset=\"https://guardian.ng/wp-content/themes/guardian2021/images/share-facebook.png 1x,https://guardian.ng/wp-content/themes/guardian2021/images/share-facebook@2x.png 2x\"/> <span class=\"label\">Facebook</span>\n",
      "</a>\n",
      "</li>\n",
      "<li>\n",
      "<a class=\"twitter\" href=\"https://twitter.com/share?url=https%3A%2F%2Fguardian.ng%2Fnews%2Fndlea-arrests-198-drug-peddlers-in-kanos-graveyards-nightclubs%2F&amp;text=NDLEA+arrests+198+drug+peddlers+in+Kano%E2%80%99s+graveyards%2C+nightclubs\" on=\"tap:AMP.navigateTo(url='https://twitter.com/share?url=https%3A%2F%2Fguardian.ng%2Fnews%2Fndlea-arrests-198-drug-peddlers-in-kanos-graveyards-nightclubs%2F&amp;text=NDLEA+arrests+198+drug+peddlers+in+Kano%E2%80%99s+graveyards%2C+nightclubs', target='_blank')\" target=\"_blank\">\n",
      "<img alt=\"Share on Twitter\" src=\"https://guardian.ng/wp-content/themes/guardian2021/images/share-twitter.png\" srcset=\"https://guardian.ng/wp-content/themes/guardian2021/images/share-twitter.png 1x,https://guardian.ng/wp-content/themes/guardian2021/images/share-twitter@2x.png 2x\"/> <span class=\"label\">Twitter</span>\n",
      "</a>\n",
      "</li>\n",
      "<li>\n",
      "<a class=\"whatsapp\" href=\"https://api.whatsapp.com/send?text=https%3A%2F%2Fguardian.ng%2Fnews%2Fndlea-arrests-198-drug-peddlers-in-kanos-graveyards-nightclubs%2F\" target=\"_blank\">\n",
      "<img alt=\"Share on WhatsApp\" src=\"https://guardian.ng/wp-content/themes/guardian2021/images/share-whatsApp.png\" srcset=\"https://guardian.ng/wp-content/themes/guardian2021/images/share-whatsApp.png 1x,https://guardian.ng/wp-content/themes/guardian2021/images/share-whatsApp@2x.png 2x\"/> <span class=\"label\">WhatsApp</span>\n",
      "</a>\n",
      "</li>\n",
      "<li>\n",
      "<a class=\"telegram\" href=\"https://telegram.me/share/url?url=https%3A%2F%2Fguardian.ng%2Fnews%2Fndlea-arrests-198-drug-peddlers-in-kanos-graveyards-nightclubs%2F&amp;text=NDLEA+arrests+198+drug+peddlers+in+Kano%E2%80%99s+graveyards%2C+nightclubs\" on=\"tap:AMP.navigateTo(url='https://telegram.me/share/url?url=https%3A%2F%2Fguardian.ng%2Fnews%2Fndlea-arrests-198-drug-peddlers-in-kanos-graveyards-nightclubs%2F&amp;text=NDLEA+arrests+198+drug+peddlers+in+Kano%E2%80%99s+graveyards%2C+nightclubs', target='_blank')\" target=\"_blank\">\n",
      "<img alt=\"Share on Telegram\" src=\"https://guardian.ng/wp-content/themes/guardian2021/images/share-telegram.png\" srcset=\"https://guardian.ng/wp-content/themes/guardian2021/images/share-telegram.png 1x,https://guardian.ng/wp-content/themes/guardian2021/images/share-telegram@2x.png 2x\"/> <span class=\"label\">Telegram</span>\n",
      "</a>\n",
      "</li>\n",
      "</ul>\n",
      "</div>\n",
      "</div>\n"
     ]
    }
   ],
   "source": [
    "article_tags = soup.find_all('div', attrs={'class':\"item design-article\"})\n",
    "print(article_tags[3])\n"
   ]
  },
  {
   "cell_type": "code",
   "execution_count": 34,
   "metadata": {},
   "outputs": [
    {
     "name": "stdout",
     "output_type": "stream",
     "text": [
      "News\n"
     ]
    }
   ],
   "source": [
    "article = article_tags[3]\n",
    "category = article.find('div', {'class': 'category'}).find('a').text\n",
    "print(category)"
   ]
  },
  {
   "cell_type": "code",
   "execution_count": 10,
   "metadata": {},
   "outputs": [
    {
     "name": "stdout",
     "output_type": "stream",
     "text": [
      "Wike insists on May 29 delivery date for Abuja light rail\n"
     ]
    }
   ],
   "source": [
    "title = article.find('span', attrs={'class':\"title\"}).text\n",
    "print(title)"
   ]
  },
  {
   "cell_type": "code",
   "execution_count": 11,
   "metadata": {},
   "outputs": [
    {
     "name": "stdout",
     "output_type": "stream",
     "text": [
      "https://guardian.ng/news/wike-insists-on-may-29-delivery-date-for-abuja-light-rail/\n"
     ]
    }
   ],
   "source": [
    "link = article.find('span', attrs={'class': 'title'}).find('a')['href']\n",
    "print(link)"
   ]
  },
  {
   "cell_type": "code",
   "execution_count": 26,
   "metadata": {},
   "outputs": [],
   "source": [
    "categories = []\n",
    "titles = []\n",
    "links = []"
   ]
  },
  {
   "cell_type": "code",
   "execution_count": 37,
   "metadata": {},
   "outputs": [],
   "source": [
    "for article in soup.find_all('div', attrs={'class':\"item design-article\"}):\n",
    "    category = article.find('div', attrs={'class':\"category\"}).text\n",
    "    title = article.find('div', attrs={'class':\"headline\"}).text\n",
    "    link = article.find('span', attrs={'class': 'title'}).find('a')['href']\n",
    "\n",
    "\n",
    "    categories.append(category)\n",
    "    titles.append(title)\n",
    "    links.append(link)"
   ]
  },
  {
   "cell_type": "code",
   "execution_count": 38,
   "metadata": {},
   "outputs": [
    {
     "data": {
      "text/html": [
       "<div>\n",
       "<style scoped>\n",
       "    .dataframe tbody tr th:only-of-type {\n",
       "        vertical-align: middle;\n",
       "    }\n",
       "\n",
       "    .dataframe tbody tr th {\n",
       "        vertical-align: top;\n",
       "    }\n",
       "\n",
       "    .dataframe thead th {\n",
       "        text-align: right;\n",
       "    }\n",
       "</style>\n",
       "<table border=\"1\" class=\"dataframe\">\n",
       "  <thead>\n",
       "    <tr style=\"text-align: right;\">\n",
       "      <th></th>\n",
       "      <th>Category</th>\n",
       "      <th>Title</th>\n",
       "      <th>Link</th>\n",
       "    </tr>\n",
       "  </thead>\n",
       "  <tbody>\n",
       "    <tr>\n",
       "      <th>0</th>\n",
       "      <td>Nigeria</td>\n",
       "      <td>\\nWike insists on May 29 delivery date for Abu...</td>\n",
       "      <td>https://guardian.ng/news/wike-insists-on-may-2...</td>\n",
       "    </tr>\n",
       "    <tr>\n",
       "      <th>1</th>\n",
       "      <td>News</td>\n",
       "      <td>\\nThree nabbed for swindling students as polic...</td>\n",
       "      <td>https://guardian.ng/news/three-nabbed-for-swin...</td>\n",
       "    </tr>\n",
       "    <tr>\n",
       "      <th>2</th>\n",
       "      <td>News</td>\n",
       "      <td>\\nPolice arrest suspected kidnappers, armed ro...</td>\n",
       "      <td>https://guardian.ng/news/police-arrest-suspect...</td>\n",
       "    </tr>\n",
       "    <tr>\n",
       "      <th>3</th>\n",
       "      <td>News</td>\n",
       "      <td>\\nNDLEA arrests 198 drug peddlers in Kano’s gr...</td>\n",
       "      <td>https://guardian.ng/news/ndlea-arrests-198-dru...</td>\n",
       "    </tr>\n",
       "    <tr>\n",
       "      <th>4</th>\n",
       "      <td>Nigeria</td>\n",
       "      <td>\\nReps explain why they are at peace with the ...</td>\n",
       "      <td>https://guardian.ng/news/reps-explain-why-they...</td>\n",
       "    </tr>\n",
       "  </tbody>\n",
       "</table>\n",
       "</div>"
      ],
      "text/plain": [
       "  Category                                              Title  \\\n",
       "0  Nigeria  \\nWike insists on May 29 delivery date for Abu...   \n",
       "1     News  \\nThree nabbed for swindling students as polic...   \n",
       "2     News  \\nPolice arrest suspected kidnappers, armed ro...   \n",
       "3     News  \\nNDLEA arrests 198 drug peddlers in Kano’s gr...   \n",
       "4  Nigeria  \\nReps explain why they are at peace with the ...   \n",
       "\n",
       "                                                Link  \n",
       "0  https://guardian.ng/news/wike-insists-on-may-2...  \n",
       "1  https://guardian.ng/news/three-nabbed-for-swin...  \n",
       "2  https://guardian.ng/news/police-arrest-suspect...  \n",
       "3  https://guardian.ng/news/ndlea-arrests-198-dru...  \n",
       "4  https://guardian.ng/news/reps-explain-why-they...  "
      ]
     },
     "execution_count": 38,
     "metadata": {},
     "output_type": "execute_result"
    }
   ],
   "source": [
    "# Creating a DataFrame\n",
    "data = {'Category': categories, 'Title': titles, 'Link': links}\n",
    "df = pd.DataFrame(data)\n",
    "df.head()\n"
   ]
  },
  {
   "cell_type": "code",
   "execution_count": 39,
   "metadata": {},
   "outputs": [
    {
     "data": {
      "text/plain": [
       "Category\n",
       "Nigeria          42\n",
       "News             12\n",
       "Football         12\n",
       "Technology       12\n",
       "What's New       10\n",
       "                  8\n",
       "Business News     3\n",
       "Appointments      3\n",
       "Sport             3\n",
       "World             3\n",
       "Editorial         2\n",
       "Focus             2\n",
       "Name: count, dtype: int64"
      ]
     },
     "execution_count": 39,
     "metadata": {},
     "output_type": "execute_result"
    }
   ],
   "source": [
    "df['Category'].value_counts()  "
   ]
  },
  {
   "cell_type": "code",
   "execution_count": 40,
   "metadata": {},
   "outputs": [],
   "source": [
    "# Filter the dataframe based on the specified categories\n",
    "selected_categories = ['Politics', 'Security', 'Economy', 'Youth', 'Lifestyle', \"News\", \"Football\", \"Technology\", \"Business News\", \"Sport\", \"World\"]\n",
    "filtered_df = df[df['Category'].isin(selected_categories)]"
   ]
  },
  {
   "cell_type": "code",
   "execution_count": 41,
   "metadata": {},
   "outputs": [
    {
     "data": {
      "text/plain": [
       "Category\n",
       "News             12\n",
       "Football         12\n",
       "Technology       12\n",
       "Business News     3\n",
       "Sport             3\n",
       "World             3\n",
       "Name: count, dtype: int64"
      ]
     },
     "execution_count": 41,
     "metadata": {},
     "output_type": "execute_result"
    }
   ],
   "source": [
    "filtered_df['Category'].value_counts()"
   ]
  },
  {
   "cell_type": "code",
   "execution_count": 42,
   "metadata": {},
   "outputs": [],
   "source": [
    "df.to_csv('first_scrape.csv', index=False)"
   ]
  },
  {
   "cell_type": "code",
   "execution_count": 78,
   "metadata": {},
   "outputs": [],
   "source": [
    "url = \"https://www.premiumtimesng.com/2023-elections-presidential\""
   ]
  },
  {
   "cell_type": "code",
   "execution_count": 79,
   "metadata": {},
   "outputs": [
    {
     "name": "stdout",
     "output_type": "stream",
     "text": [
      "<Response [200]>\n"
     ]
    }
   ],
   "source": [
    "response = requests.get(url, headers=HEADERS)\n",
    "print(response)\n",
    "soup = BeautifulSoup(response.content, 'html.parser')\n",
    "#print(soup)\n",
    "\n"
   ]
  },
  {
   "cell_type": "code",
   "execution_count": 85,
   "metadata": {},
   "outputs": [
    {
     "data": {
      "text/plain": [
       "9"
      ]
     },
     "execution_count": 85,
     "metadata": {},
     "output_type": "execute_result"
    }
   ],
   "source": [
    "# Find all articles on the page\n",
    "articles = soup.find_all('article', class_='jeg_post jeg_pl_sm format-standard')\n",
    "len(articles)"
   ]
  },
  {
   "cell_type": "markdown",
   "metadata": {},
   "source": []
  },
  {
   "cell_type": "code",
   "execution_count": 86,
   "metadata": {},
   "outputs": [],
   "source": [
    "titles = []\n",
    "links = []\n",
    "category = \"2023-elections\""
   ]
  },
  {
   "cell_type": "code",
   "execution_count": 87,
   "metadata": {},
   "outputs": [],
   "source": [
    "# Iterate through each article and extract title and link\n",
    "for article in articles:\n",
    "    title = article.find('h3', class_='jeg_post_title').find('a').text\n",
    "    link = article.find('h3', class_='jeg_post_title').find('a')['href']\n",
    "\n",
    "    titles.append(title)\n",
    "    links.append(link)"
   ]
  },
  {
   "cell_type": "code",
   "execution_count": 88,
   "metadata": {},
   "outputs": [
    {
     "data": {
      "text/html": [
       "<div>\n",
       "<style scoped>\n",
       "    .dataframe tbody tr th:only-of-type {\n",
       "        vertical-align: middle;\n",
       "    }\n",
       "\n",
       "    .dataframe tbody tr th {\n",
       "        vertical-align: top;\n",
       "    }\n",
       "\n",
       "    .dataframe thead th {\n",
       "        text-align: right;\n",
       "    }\n",
       "</style>\n",
       "<table border=\"1\" class=\"dataframe\">\n",
       "  <thead>\n",
       "    <tr style=\"text-align: right;\">\n",
       "      <th></th>\n",
       "      <th>Category</th>\n",
       "      <th>Title</th>\n",
       "      <th>Link</th>\n",
       "    </tr>\n",
       "  </thead>\n",
       "  <tbody>\n",
       "    <tr>\n",
       "      <th>0</th>\n",
       "      <td>2023-elections</td>\n",
       "      <td>Tinubu: APC asks election tribunal to dismiss ...</td>\n",
       "      <td>https://www.premiumtimesng.com/news/592693-tin...</td>\n",
       "    </tr>\n",
       "    <tr>\n",
       "      <th>1</th>\n",
       "      <td>2023-elections</td>\n",
       "      <td>DATA: What the voting pattern in 2023 presiden...</td>\n",
       "      <td>https://www.premiumtimesng.com/news/592686-dat...</td>\n",
       "    </tr>\n",
       "    <tr>\n",
       "      <th>2</th>\n",
       "      <td>2023-elections</td>\n",
       "      <td>INEC to conduct supplementary elections in ove...</td>\n",
       "      <td>https://www.premiumtimesng.com/news/top-news/5...</td>\n",
       "    </tr>\n",
       "    <tr>\n",
       "      <th>3</th>\n",
       "      <td>2023-elections</td>\n",
       "      <td>Code of Conduct Bureau invites Keyamo over pet...</td>\n",
       "      <td>https://www.premiumtimesng.com/news/top-news/5...</td>\n",
       "    </tr>\n",
       "    <tr>\n",
       "      <th>4</th>\n",
       "      <td>2023-elections</td>\n",
       "      <td>ANALYSIS: Politicians facing bleak future afte...</td>\n",
       "      <td>https://www.premiumtimesng.com/news/590501-590...</td>\n",
       "    </tr>\n",
       "  </tbody>\n",
       "</table>\n",
       "</div>"
      ],
      "text/plain": [
       "         Category                                              Title  \\\n",
       "0  2023-elections  Tinubu: APC asks election tribunal to dismiss ...   \n",
       "1  2023-elections  DATA: What the voting pattern in 2023 presiden...   \n",
       "2  2023-elections  INEC to conduct supplementary elections in ove...   \n",
       "3  2023-elections  Code of Conduct Bureau invites Keyamo over pet...   \n",
       "4  2023-elections  ANALYSIS: Politicians facing bleak future afte...   \n",
       "\n",
       "                                                Link  \n",
       "0  https://www.premiumtimesng.com/news/592693-tin...  \n",
       "1  https://www.premiumtimesng.com/news/592686-dat...  \n",
       "2  https://www.premiumtimesng.com/news/top-news/5...  \n",
       "3  https://www.premiumtimesng.com/news/top-news/5...  \n",
       "4  https://www.premiumtimesng.com/news/590501-590...  "
      ]
     },
     "execution_count": 88,
     "metadata": {},
     "output_type": "execute_result"
    }
   ],
   "source": [
    "# Creating a DataFrame\n",
    "data = {'Category': category, 'Title': titles, 'Link': links}\n",
    "df = pd.DataFrame(data)\n",
    "df.head()"
   ]
  },
  {
   "cell_type": "code",
   "execution_count": 89,
   "metadata": {},
   "outputs": [],
   "source": [
    "df.to_csv('premiumtimes_2023_elections.csv', index=False)"
   ]
  },
  {
   "cell_type": "markdown",
   "metadata": {},
   "source": []
  },
  {
   "cell_type": "code",
   "execution_count": null,
   "metadata": {},
   "outputs": [],
   "source": []
  }
 ],
 "metadata": {
  "kernelspec": {
   "display_name": "venv",
   "language": "python",
   "name": "python3"
  },
  "language_info": {
   "codemirror_mode": {
    "name": "ipython",
    "version": 3
   },
   "file_extension": ".py",
   "mimetype": "text/x-python",
   "name": "python",
   "nbconvert_exporter": "python",
   "pygments_lexer": "ipython3",
   "version": "3.10.12"
  }
 },
 "nbformat": 4,
 "nbformat_minor": 2
}
